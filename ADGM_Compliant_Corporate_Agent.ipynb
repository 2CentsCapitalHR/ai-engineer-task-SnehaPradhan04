{
  "nbformat": 4,
  "nbformat_minor": 0,
  "metadata": {
    "colab": {
      "provenance": []
    },
    "kernelspec": {
      "name": "python3",
      "display_name": "Python 3"
    },
    "language_info": {
      "name": "python"
    }
  },
  "cells": [
    {
      "cell_type": "code",
      "source": [
        "!pip install python-docx gradio pypdf2 scikit-learn rapidfuzz"
      ],
      "metadata": {
        "colab": {
          "base_uri": "https://localhost:8080/"
        },
        "id": "AmHr9OW__2U2",
        "outputId": "c7c0b96c-fe35-4095-dd81-0b13972e2746"
      },
      "execution_count": 17,
      "outputs": [
        {
          "output_type": "stream",
          "name": "stdout",
          "text": [
            "Requirement already satisfied: python-docx in /usr/local/lib/python3.11/dist-packages (1.2.0)\n",
            "Requirement already satisfied: gradio in /usr/local/lib/python3.11/dist-packages (5.41.0)\n",
            "Requirement already satisfied: pypdf2 in /usr/local/lib/python3.11/dist-packages (3.0.1)\n",
            "Requirement already satisfied: scikit-learn in /usr/local/lib/python3.11/dist-packages (1.6.1)\n",
            "Requirement already satisfied: rapidfuzz in /usr/local/lib/python3.11/dist-packages (3.13.0)\n",
            "Requirement already satisfied: lxml>=3.1.0 in /usr/local/lib/python3.11/dist-packages (from python-docx) (5.4.0)\n",
            "Requirement already satisfied: typing_extensions>=4.9.0 in /usr/local/lib/python3.11/dist-packages (from python-docx) (4.14.1)\n",
            "Requirement already satisfied: aiofiles<25.0,>=22.0 in /usr/local/lib/python3.11/dist-packages (from gradio) (24.1.0)\n",
            "Requirement already satisfied: anyio<5.0,>=3.0 in /usr/local/lib/python3.11/dist-packages (from gradio) (4.10.0)\n",
            "Requirement already satisfied: brotli>=1.1.0 in /usr/local/lib/python3.11/dist-packages (from gradio) (1.1.0)\n",
            "Requirement already satisfied: fastapi<1.0,>=0.115.2 in /usr/local/lib/python3.11/dist-packages (from gradio) (0.116.1)\n",
            "Requirement already satisfied: ffmpy in /usr/local/lib/python3.11/dist-packages (from gradio) (0.6.1)\n",
            "Requirement already satisfied: gradio-client==1.11.0 in /usr/local/lib/python3.11/dist-packages (from gradio) (1.11.0)\n",
            "Requirement already satisfied: groovy~=0.1 in /usr/local/lib/python3.11/dist-packages (from gradio) (0.1.2)\n",
            "Requirement already satisfied: httpx<1.0,>=0.24.1 in /usr/local/lib/python3.11/dist-packages (from gradio) (0.28.1)\n",
            "Requirement already satisfied: huggingface-hub<1.0,>=0.33.5 in /usr/local/lib/python3.11/dist-packages (from gradio) (0.34.3)\n",
            "Requirement already satisfied: jinja2<4.0 in /usr/local/lib/python3.11/dist-packages (from gradio) (3.1.6)\n",
            "Requirement already satisfied: markupsafe<4.0,>=2.0 in /usr/local/lib/python3.11/dist-packages (from gradio) (3.0.2)\n",
            "Requirement already satisfied: numpy<3.0,>=1.0 in /usr/local/lib/python3.11/dist-packages (from gradio) (2.0.2)\n",
            "Requirement already satisfied: orjson~=3.0 in /usr/local/lib/python3.11/dist-packages (from gradio) (3.11.1)\n",
            "Requirement already satisfied: packaging in /usr/local/lib/python3.11/dist-packages (from gradio) (25.0)\n",
            "Requirement already satisfied: pandas<3.0,>=1.0 in /usr/local/lib/python3.11/dist-packages (from gradio) (2.2.2)\n",
            "Requirement already satisfied: pillow<12.0,>=8.0 in /usr/local/lib/python3.11/dist-packages (from gradio) (11.3.0)\n",
            "Requirement already satisfied: pydantic<2.12,>=2.0 in /usr/local/lib/python3.11/dist-packages (from gradio) (2.11.7)\n",
            "Requirement already satisfied: pydub in /usr/local/lib/python3.11/dist-packages (from gradio) (0.25.1)\n",
            "Requirement already satisfied: python-multipart>=0.0.18 in /usr/local/lib/python3.11/dist-packages (from gradio) (0.0.20)\n",
            "Requirement already satisfied: pyyaml<7.0,>=5.0 in /usr/local/lib/python3.11/dist-packages (from gradio) (6.0.2)\n",
            "Requirement already satisfied: ruff>=0.9.3 in /usr/local/lib/python3.11/dist-packages (from gradio) (0.12.7)\n",
            "Requirement already satisfied: safehttpx<0.2.0,>=0.1.6 in /usr/local/lib/python3.11/dist-packages (from gradio) (0.1.6)\n",
            "Requirement already satisfied: semantic-version~=2.0 in /usr/local/lib/python3.11/dist-packages (from gradio) (2.10.0)\n",
            "Requirement already satisfied: starlette<1.0,>=0.40.0 in /usr/local/lib/python3.11/dist-packages (from gradio) (0.47.2)\n",
            "Requirement already satisfied: tomlkit<0.14.0,>=0.12.0 in /usr/local/lib/python3.11/dist-packages (from gradio) (0.13.3)\n",
            "Requirement already satisfied: typer<1.0,>=0.12 in /usr/local/lib/python3.11/dist-packages (from gradio) (0.16.0)\n",
            "Requirement already satisfied: uvicorn>=0.14.0 in /usr/local/lib/python3.11/dist-packages (from gradio) (0.35.0)\n",
            "Requirement already satisfied: fsspec in /usr/local/lib/python3.11/dist-packages (from gradio-client==1.11.0->gradio) (2025.3.0)\n",
            "Requirement already satisfied: websockets<16.0,>=10.0 in /usr/local/lib/python3.11/dist-packages (from gradio-client==1.11.0->gradio) (15.0.1)\n",
            "Requirement already satisfied: scipy>=1.6.0 in /usr/local/lib/python3.11/dist-packages (from scikit-learn) (1.16.1)\n",
            "Requirement already satisfied: joblib>=1.2.0 in /usr/local/lib/python3.11/dist-packages (from scikit-learn) (1.5.1)\n",
            "Requirement already satisfied: threadpoolctl>=3.1.0 in /usr/local/lib/python3.11/dist-packages (from scikit-learn) (3.6.0)\n",
            "Requirement already satisfied: idna>=2.8 in /usr/local/lib/python3.11/dist-packages (from anyio<5.0,>=3.0->gradio) (3.10)\n",
            "Requirement already satisfied: sniffio>=1.1 in /usr/local/lib/python3.11/dist-packages (from anyio<5.0,>=3.0->gradio) (1.3.1)\n",
            "Requirement already satisfied: certifi in /usr/local/lib/python3.11/dist-packages (from httpx<1.0,>=0.24.1->gradio) (2025.8.3)\n",
            "Requirement already satisfied: httpcore==1.* in /usr/local/lib/python3.11/dist-packages (from httpx<1.0,>=0.24.1->gradio) (1.0.9)\n",
            "Requirement already satisfied: h11>=0.16 in /usr/local/lib/python3.11/dist-packages (from httpcore==1.*->httpx<1.0,>=0.24.1->gradio) (0.16.0)\n",
            "Requirement already satisfied: filelock in /usr/local/lib/python3.11/dist-packages (from huggingface-hub<1.0,>=0.33.5->gradio) (3.18.0)\n",
            "Requirement already satisfied: requests in /usr/local/lib/python3.11/dist-packages (from huggingface-hub<1.0,>=0.33.5->gradio) (2.32.3)\n",
            "Requirement already satisfied: tqdm>=4.42.1 in /usr/local/lib/python3.11/dist-packages (from huggingface-hub<1.0,>=0.33.5->gradio) (4.67.1)\n",
            "Requirement already satisfied: hf-xet<2.0.0,>=1.1.3 in /usr/local/lib/python3.11/dist-packages (from huggingface-hub<1.0,>=0.33.5->gradio) (1.1.7)\n",
            "Requirement already satisfied: python-dateutil>=2.8.2 in /usr/local/lib/python3.11/dist-packages (from pandas<3.0,>=1.0->gradio) (2.9.0.post0)\n",
            "Requirement already satisfied: pytz>=2020.1 in /usr/local/lib/python3.11/dist-packages (from pandas<3.0,>=1.0->gradio) (2025.2)\n",
            "Requirement already satisfied: tzdata>=2022.7 in /usr/local/lib/python3.11/dist-packages (from pandas<3.0,>=1.0->gradio) (2025.2)\n",
            "Requirement already satisfied: annotated-types>=0.6.0 in /usr/local/lib/python3.11/dist-packages (from pydantic<2.12,>=2.0->gradio) (0.7.0)\n",
            "Requirement already satisfied: pydantic-core==2.33.2 in /usr/local/lib/python3.11/dist-packages (from pydantic<2.12,>=2.0->gradio) (2.33.2)\n",
            "Requirement already satisfied: typing-inspection>=0.4.0 in /usr/local/lib/python3.11/dist-packages (from pydantic<2.12,>=2.0->gradio) (0.4.1)\n",
            "Requirement already satisfied: click>=8.0.0 in /usr/local/lib/python3.11/dist-packages (from typer<1.0,>=0.12->gradio) (8.2.1)\n",
            "Requirement already satisfied: shellingham>=1.3.0 in /usr/local/lib/python3.11/dist-packages (from typer<1.0,>=0.12->gradio) (1.5.4)\n",
            "Requirement already satisfied: rich>=10.11.0 in /usr/local/lib/python3.11/dist-packages (from typer<1.0,>=0.12->gradio) (13.9.4)\n",
            "Requirement already satisfied: six>=1.5 in /usr/local/lib/python3.11/dist-packages (from python-dateutil>=2.8.2->pandas<3.0,>=1.0->gradio) (1.17.0)\n",
            "Requirement already satisfied: markdown-it-py>=2.2.0 in /usr/local/lib/python3.11/dist-packages (from rich>=10.11.0->typer<1.0,>=0.12->gradio) (3.0.0)\n",
            "Requirement already satisfied: pygments<3.0.0,>=2.13.0 in /usr/local/lib/python3.11/dist-packages (from rich>=10.11.0->typer<1.0,>=0.12->gradio) (2.19.2)\n",
            "Requirement already satisfied: charset-normalizer<4,>=2 in /usr/local/lib/python3.11/dist-packages (from requests->huggingface-hub<1.0,>=0.33.5->gradio) (3.4.2)\n",
            "Requirement already satisfied: urllib3<3,>=1.21.1 in /usr/local/lib/python3.11/dist-packages (from requests->huggingface-hub<1.0,>=0.33.5->gradio) (2.5.0)\n",
            "Requirement already satisfied: mdurl~=0.1 in /usr/local/lib/python3.11/dist-packages (from markdown-it-py>=2.2.0->rich>=10.11.0->typer<1.0,>=0.12->gradio) (0.1.2)\n"
          ]
        }
      ]
    },
    {
      "cell_type": "code",
      "source": [
        "from docx import Document\n",
        "import os, shutil\n",
        "\n",
        "os.makedirs(\"sample_docs\", exist_ok=True)\n",
        "\n",
        "docs_content = {\n",
        "    \"Articles_of_Association.docx\": \"\"\"Articles of Association\n",
        "Clause 3.1 — Jurisdiction is UAE Federal Courts\n",
        "Clause 5.2 — Shareholders may transfer shares with approval\n",
        "Clause 9 — (Signatures missing)\n",
        "\"\"\",\n",
        "    \"Memorandum_of_Association.docx\": \"\"\"Memorandum of Association\n",
        "Clause 1 — Company name is Example ADGM Ltd\n",
        "Clause 2 — Registered office located in Abu Dhabi Global Market\n",
        "\"\"\",\n",
        "    \"Board_Resolution.docx\": \"\"\"Board Resolution\n",
        "It was resolved that John Smith is appointed as the Director of the Company.\n",
        "(Note: Missing signatory lines)\n",
        "\"\"\",\n",
        "    \"UBO_Declaration_Form.docx\": \"\"\"UBO Declaration Form\n",
        "Ultimate Beneficial Owner: Jane Doe\n",
        "Ownership: 120%\n",
        "Nationality: British\n",
        "\"\"\",\n",
        "    \"Register_of_Members_and_Directors.docx\": \"\"\"Register of Members and Directors\n",
        "Member: Jane Doe — 60% Ownership\n",
        "Director: John Smith\n",
        "\"\"\"\n",
        "}\n",
        "\n",
        "for filename, content in docs_content.items():\n",
        "    doc = Document()\n",
        "    for line in content.split(\"\\n\"):\n",
        "        doc.add_paragraph(line)\n",
        "    doc.save(f\"sample_docs/{filename}\")\n",
        "\n",
        "shutil.make_archive(\"sample_adgm_docs\", 'zip', \"sample_docs\")\n",
        "print(\"Sample test docs created: sample_adgm_docs.zip\")"
      ],
      "metadata": {
        "colab": {
          "base_uri": "https://localhost:8080/"
        },
        "id": "FRjn0H_4_7sg",
        "outputId": "fa8cf6df-7f86-4765-8e79-48ae34868c01"
      },
      "execution_count": 19,
      "outputs": [
        {
          "output_type": "stream",
          "name": "stdout",
          "text": [
            "Sample test docs created: sample_adgm_docs.zip\n"
          ]
        }
      ]
    },
    {
      "cell_type": "code",
      "source": [
        "from google.colab import files\n",
        "uploaded = files.upload()\n",
        "print(\"Uploaded:\", list(uploaded.keys()))"
      ],
      "metadata": {
        "colab": {
          "base_uri": "https://localhost:8080/",
          "height": 89
        },
        "id": "va26rb8bAECi",
        "outputId": "fd84e2dc-80b9-4214-d39d-c3cb95a8693e"
      },
      "execution_count": 20,
      "outputs": [
        {
          "output_type": "display_data",
          "data": {
            "text/plain": [
              "<IPython.core.display.HTML object>"
            ],
            "text/html": [
              "\n",
              "     <input type=\"file\" id=\"files-ddfe5d78-2798-4242-ae26-fab29662cf79\" name=\"files[]\" multiple disabled\n",
              "        style=\"border:none\" />\n",
              "     <output id=\"result-ddfe5d78-2798-4242-ae26-fab29662cf79\">\n",
              "      Upload widget is only available when the cell has been executed in the\n",
              "      current browser session. Please rerun this cell to enable.\n",
              "      </output>\n",
              "      <script>// Copyright 2017 Google LLC\n",
              "//\n",
              "// Licensed under the Apache License, Version 2.0 (the \"License\");\n",
              "// you may not use this file except in compliance with the License.\n",
              "// You may obtain a copy of the License at\n",
              "//\n",
              "//      http://www.apache.org/licenses/LICENSE-2.0\n",
              "//\n",
              "// Unless required by applicable law or agreed to in writing, software\n",
              "// distributed under the License is distributed on an \"AS IS\" BASIS,\n",
              "// WITHOUT WARRANTIES OR CONDITIONS OF ANY KIND, either express or implied.\n",
              "// See the License for the specific language governing permissions and\n",
              "// limitations under the License.\n",
              "\n",
              "/**\n",
              " * @fileoverview Helpers for google.colab Python module.\n",
              " */\n",
              "(function(scope) {\n",
              "function span(text, styleAttributes = {}) {\n",
              "  const element = document.createElement('span');\n",
              "  element.textContent = text;\n",
              "  for (const key of Object.keys(styleAttributes)) {\n",
              "    element.style[key] = styleAttributes[key];\n",
              "  }\n",
              "  return element;\n",
              "}\n",
              "\n",
              "// Max number of bytes which will be uploaded at a time.\n",
              "const MAX_PAYLOAD_SIZE = 100 * 1024;\n",
              "\n",
              "function _uploadFiles(inputId, outputId) {\n",
              "  const steps = uploadFilesStep(inputId, outputId);\n",
              "  const outputElement = document.getElementById(outputId);\n",
              "  // Cache steps on the outputElement to make it available for the next call\n",
              "  // to uploadFilesContinue from Python.\n",
              "  outputElement.steps = steps;\n",
              "\n",
              "  return _uploadFilesContinue(outputId);\n",
              "}\n",
              "\n",
              "// This is roughly an async generator (not supported in the browser yet),\n",
              "// where there are multiple asynchronous steps and the Python side is going\n",
              "// to poll for completion of each step.\n",
              "// This uses a Promise to block the python side on completion of each step,\n",
              "// then passes the result of the previous step as the input to the next step.\n",
              "function _uploadFilesContinue(outputId) {\n",
              "  const outputElement = document.getElementById(outputId);\n",
              "  const steps = outputElement.steps;\n",
              "\n",
              "  const next = steps.next(outputElement.lastPromiseValue);\n",
              "  return Promise.resolve(next.value.promise).then((value) => {\n",
              "    // Cache the last promise value to make it available to the next\n",
              "    // step of the generator.\n",
              "    outputElement.lastPromiseValue = value;\n",
              "    return next.value.response;\n",
              "  });\n",
              "}\n",
              "\n",
              "/**\n",
              " * Generator function which is called between each async step of the upload\n",
              " * process.\n",
              " * @param {string} inputId Element ID of the input file picker element.\n",
              " * @param {string} outputId Element ID of the output display.\n",
              " * @return {!Iterable<!Object>} Iterable of next steps.\n",
              " */\n",
              "function* uploadFilesStep(inputId, outputId) {\n",
              "  const inputElement = document.getElementById(inputId);\n",
              "  inputElement.disabled = false;\n",
              "\n",
              "  const outputElement = document.getElementById(outputId);\n",
              "  outputElement.innerHTML = '';\n",
              "\n",
              "  const pickedPromise = new Promise((resolve) => {\n",
              "    inputElement.addEventListener('change', (e) => {\n",
              "      resolve(e.target.files);\n",
              "    });\n",
              "  });\n",
              "\n",
              "  const cancel = document.createElement('button');\n",
              "  inputElement.parentElement.appendChild(cancel);\n",
              "  cancel.textContent = 'Cancel upload';\n",
              "  const cancelPromise = new Promise((resolve) => {\n",
              "    cancel.onclick = () => {\n",
              "      resolve(null);\n",
              "    };\n",
              "  });\n",
              "\n",
              "  // Wait for the user to pick the files.\n",
              "  const files = yield {\n",
              "    promise: Promise.race([pickedPromise, cancelPromise]),\n",
              "    response: {\n",
              "      action: 'starting',\n",
              "    }\n",
              "  };\n",
              "\n",
              "  cancel.remove();\n",
              "\n",
              "  // Disable the input element since further picks are not allowed.\n",
              "  inputElement.disabled = true;\n",
              "\n",
              "  if (!files) {\n",
              "    return {\n",
              "      response: {\n",
              "        action: 'complete',\n",
              "      }\n",
              "    };\n",
              "  }\n",
              "\n",
              "  for (const file of files) {\n",
              "    const li = document.createElement('li');\n",
              "    li.append(span(file.name, {fontWeight: 'bold'}));\n",
              "    li.append(span(\n",
              "        `(${file.type || 'n/a'}) - ${file.size} bytes, ` +\n",
              "        `last modified: ${\n",
              "            file.lastModifiedDate ? file.lastModifiedDate.toLocaleDateString() :\n",
              "                                    'n/a'} - `));\n",
              "    const percent = span('0% done');\n",
              "    li.appendChild(percent);\n",
              "\n",
              "    outputElement.appendChild(li);\n",
              "\n",
              "    const fileDataPromise = new Promise((resolve) => {\n",
              "      const reader = new FileReader();\n",
              "      reader.onload = (e) => {\n",
              "        resolve(e.target.result);\n",
              "      };\n",
              "      reader.readAsArrayBuffer(file);\n",
              "    });\n",
              "    // Wait for the data to be ready.\n",
              "    let fileData = yield {\n",
              "      promise: fileDataPromise,\n",
              "      response: {\n",
              "        action: 'continue',\n",
              "      }\n",
              "    };\n",
              "\n",
              "    // Use a chunked sending to avoid message size limits. See b/62115660.\n",
              "    let position = 0;\n",
              "    do {\n",
              "      const length = Math.min(fileData.byteLength - position, MAX_PAYLOAD_SIZE);\n",
              "      const chunk = new Uint8Array(fileData, position, length);\n",
              "      position += length;\n",
              "\n",
              "      const base64 = btoa(String.fromCharCode.apply(null, chunk));\n",
              "      yield {\n",
              "        response: {\n",
              "          action: 'append',\n",
              "          file: file.name,\n",
              "          data: base64,\n",
              "        },\n",
              "      };\n",
              "\n",
              "      let percentDone = fileData.byteLength === 0 ?\n",
              "          100 :\n",
              "          Math.round((position / fileData.byteLength) * 100);\n",
              "      percent.textContent = `${percentDone}% done`;\n",
              "\n",
              "    } while (position < fileData.byteLength);\n",
              "  }\n",
              "\n",
              "  // All done.\n",
              "  yield {\n",
              "    response: {\n",
              "      action: 'complete',\n",
              "    }\n",
              "  };\n",
              "}\n",
              "\n",
              "scope.google = scope.google || {};\n",
              "scope.google.colab = scope.google.colab || {};\n",
              "scope.google.colab._files = {\n",
              "  _uploadFiles,\n",
              "  _uploadFilesContinue,\n",
              "};\n",
              "})(self);\n",
              "</script> "
            ]
          },
          "metadata": {}
        },
        {
          "output_type": "stream",
          "name": "stdout",
          "text": [
            "Saving Data Sources.pdf to Data Sources.pdf\n",
            "Uploaded: ['Data Sources.pdf']\n"
          ]
        }
      ]
    },
    {
      "cell_type": "code",
      "source": [
        "import re\n",
        "from pypdf import PdfReader\n",
        "\n",
        "pdf_file = [f for f in os.listdir() if f.lower().endswith(\".pdf\")][0]\n",
        "reader = PdfReader(pdf_file)\n",
        "\n",
        "full_text = \"\\n\".join([page.extract_text() or \"\" for page in reader.pages])\n",
        "\n",
        "patterns = [\n",
        "    r\"Articles of Association\",\n",
        "    r\"Memorandum of Association\",\n",
        "    r\"Register of Members and Directors\",\n",
        "    r\"UBO Declaration Form\",\n",
        "    r\"Board Resolution\"\n",
        "]\n",
        "\n",
        "checklist_auto = sorted(set([m.group(0) for pat in patterns for m in re.finditer(pat, full_text, re.I)]))\n",
        "print(\"Checklist extracted:\", checklist_auto)\n",
        "\n",
        "if not checklist_auto:\n",
        "    checklist_auto = [\n",
        "        \"Articles of Association\",\n",
        "        \"Memorandum of Association\",\n",
        "        \"Board Resolution\",\n",
        "        \"UBO Declaration Form\",\n",
        "        \"Register of Members and Directors\"\n",
        "    ]\n",
        "    print(\"Fallback checklist used.\")"
      ],
      "metadata": {
        "colab": {
          "base_uri": "https://localhost:8080/"
        },
        "id": "Lgya5SMdAHn5",
        "outputId": "d8d0be2c-2408-45ba-ec02-785836f3f5e2"
      },
      "execution_count": 21,
      "outputs": [
        {
          "output_type": "stream",
          "name": "stdout",
          "text": [
            "Checklist extracted: []\n",
            "Fallback checklist used.\n"
          ]
        }
      ]
    },
    {
      "cell_type": "code",
      "source": [
        "from rapidfuzz import fuzz\n",
        "\n",
        "def extract_text_from_docx(path):\n",
        "    doc = Document(path)\n",
        "    return \"\\n\".join([p.text for p in doc.paragraphs if p.text.strip()])\n",
        "\n",
        "def classify_document(text, refs, threshold=65):\n",
        "    best = (\"Unknown\", 0)\n",
        "    for ref in refs:\n",
        "        score = fuzz.partial_ratio(ref.lower(), text.lower())\n",
        "        if score > best[1]:\n",
        "            best = (ref, score)\n",
        "    return best if best[1] >= threshold else (\"Unknown\", best[1])"
      ],
      "metadata": {
        "id": "wuShVtBVARcD"
      },
      "execution_count": 22,
      "outputs": []
    },
    {
      "cell_type": "code",
      "source": [
        "def rule_based_check(text, doc_type):\n",
        "    issues = []\n",
        "\n",
        "    # Jurisdiction check\n",
        "    if \"uae federal\" in text.lower() or \"federal court\" in text.lower():\n",
        "        issues.append({\n",
        "            \"section\": \"Jurisdiction clause\",\n",
        "            \"issue\": \"Mentions UAE Federal Courts instead of ADGM Courts\",\n",
        "            \"severity\": \"High\",\n",
        "            \"suggestion\": \"Replace with 'Abu Dhabi Global Market (ADGM) Courts'\"\n",
        "        })\n",
        "\n",
        "    # Signature check\n",
        "    if \"sign\" not in text.lower():\n",
        "        issues.append({\n",
        "            \"section\": \"Signature section\",\n",
        "            \"issue\": \"No signature section found\",\n",
        "            \"severity\": \"Medium\",\n",
        "            \"suggestion\": \"Add signature lines for authorized signatories\"\n",
        "        })\n",
        "\n",
        "    # Ownership check for UBO\n",
        "    if \"ownership\" in text.lower():\n",
        "        for num in re.findall(r\"(\\d+)%\", text):\n",
        "            if int(num) > 100:\n",
        "                issues.append({\n",
        "                    \"section\": \"Ownership percentage\",\n",
        "                    \"issue\": f\"Ownership exceeds 100% ({num}%)\",\n",
        "                    \"severity\": \"High\",\n",
        "                    \"suggestion\": \"Ensure total ownership is 100% or less\"\n",
        "                })\n",
        "\n",
        "    return issues"
      ],
      "metadata": {
        "id": "ifNyGY8ZAUff"
      },
      "execution_count": 23,
      "outputs": []
    },
    {
      "cell_type": "code",
      "source": [
        "def insert_notes(input_path, issues, output_path):\n",
        "    doc = Document(input_path)\n",
        "    for issue in issues:\n",
        "        doc.add_paragraph(f\"REVIEW NOTE [{issue['section']}]: {issue['suggestion']}\")\n",
        "    doc.save(output_path)"
      ],
      "metadata": {
        "id": "Uwm-7ST_B-SX"
      },
      "execution_count": 24,
      "outputs": []
    },
    {
      "cell_type": "code",
      "source": [
        "import json, zipfile\n",
        "\n",
        "def process_docs(doc_paths, process_name=\"Company Incorporation\"):\n",
        "    results = []\n",
        "    reviewed_files = []\n",
        "    uploaded_types = []\n",
        "\n",
        "    for path in doc_paths:\n",
        "        text = extract_text_from_docx(path)\n",
        "        doc_type, score = classify_document(text, checklist_auto)\n",
        "        uploaded_types.append(doc_type)\n",
        "        issues = rule_based_check(text, doc_type)\n",
        "\n",
        "        out_path = f\"reviewed_{os.path.basename(path)}\"\n",
        "        insert_notes(path, issues, out_path)\n",
        "        reviewed_files.append(out_path)\n",
        "\n",
        "        results.append({\n",
        "            \"document\": doc_type,\n",
        "            \"score\": score,\n",
        "            \"issues_found\": issues\n",
        "        })\n",
        "\n",
        "    missing = [doc for doc in checklist_auto if doc not in uploaded_types]\n",
        "\n",
        "    report = {\n",
        "        \"process\": process_name,\n",
        "        \"documents_uploaded\": len(uploaded_types),\n",
        "        \"required_documents\": len(checklist_auto),\n",
        "        \"missing_documents\": missing,\n",
        "        \"documents\": results\n",
        "    }\n",
        "\n",
        "    with open(\"report.json\", \"w\") as f:\n",
        "        json.dump(report, f, indent=2)\n",
        "\n",
        "    with zipfile.ZipFile(\"reviewed_package.zip\", \"w\") as z:\n",
        "        z.write(\"report.json\")\n",
        "        for fpath in reviewed_files:\n",
        "            z.write(fpath)\n",
        "\n",
        "    return report, \"reviewed_package.zip\""
      ],
      "metadata": {
        "id": "wYEJg3sgCDIC"
      },
      "execution_count": 25,
      "outputs": []
    },
    {
      "cell_type": "code",
      "source": [
        "sample_paths = [os.path.join(\"sample_docs\", f) for f in os.listdir(\"sample_docs\") if f.endswith(\".docx\")]\n",
        "report, zip_file = process_docs(sample_paths)\n",
        "print(json.dumps(report, indent=2))\n",
        "\n",
        "from google.colab import files\n",
        "files.download(zip_file)"
      ],
      "metadata": {
        "colab": {
          "base_uri": "https://localhost:8080/",
          "height": 1000
        },
        "id": "8-T-HQeBCLlI",
        "outputId": "df4e4811-ca66-4e63-93ca-5f8af9054a34"
      },
      "execution_count": 26,
      "outputs": [
        {
          "output_type": "stream",
          "name": "stdout",
          "text": [
            "{\n",
            "  \"process\": \"Company Incorporation\",\n",
            "  \"documents_uploaded\": 5,\n",
            "  \"required_documents\": 5,\n",
            "  \"missing_documents\": [],\n",
            "  \"documents\": [\n",
            "    {\n",
            "      \"document\": \"Articles of Association\",\n",
            "      \"score\": 100.0,\n",
            "      \"issues_found\": [\n",
            "        {\n",
            "          \"section\": \"Jurisdiction clause\",\n",
            "          \"issue\": \"Mentions UAE Federal Courts instead of ADGM Courts\",\n",
            "          \"severity\": \"High\",\n",
            "          \"suggestion\": \"Replace with 'Abu Dhabi Global Market (ADGM) Courts'\"\n",
            "        }\n",
            "      ]\n",
            "    },\n",
            "    {\n",
            "      \"document\": \"UBO Declaration Form\",\n",
            "      \"score\": 100.0,\n",
            "      \"issues_found\": [\n",
            "        {\n",
            "          \"section\": \"Signature section\",\n",
            "          \"issue\": \"No signature section found\",\n",
            "          \"severity\": \"Medium\",\n",
            "          \"suggestion\": \"Add signature lines for authorized signatories\"\n",
            "        },\n",
            "        {\n",
            "          \"section\": \"Ownership percentage\",\n",
            "          \"issue\": \"Ownership exceeds 100% (120%)\",\n",
            "          \"severity\": \"High\",\n",
            "          \"suggestion\": \"Ensure total ownership is 100% or less\"\n",
            "        }\n",
            "      ]\n",
            "    },\n",
            "    {\n",
            "      \"document\": \"Register of Members and Directors\",\n",
            "      \"score\": 100.0,\n",
            "      \"issues_found\": [\n",
            "        {\n",
            "          \"section\": \"Signature section\",\n",
            "          \"issue\": \"No signature section found\",\n",
            "          \"severity\": \"Medium\",\n",
            "          \"suggestion\": \"Add signature lines for authorized signatories\"\n",
            "        }\n",
            "      ]\n",
            "    },\n",
            "    {\n",
            "      \"document\": \"Memorandum of Association\",\n",
            "      \"score\": 100.0,\n",
            "      \"issues_found\": [\n",
            "        {\n",
            "          \"section\": \"Signature section\",\n",
            "          \"issue\": \"No signature section found\",\n",
            "          \"severity\": \"Medium\",\n",
            "          \"suggestion\": \"Add signature lines for authorized signatories\"\n",
            "        }\n",
            "      ]\n",
            "    },\n",
            "    {\n",
            "      \"document\": \"Board Resolution\",\n",
            "      \"score\": 100.0,\n",
            "      \"issues_found\": []\n",
            "    }\n",
            "  ]\n",
            "}\n"
          ]
        },
        {
          "output_type": "display_data",
          "data": {
            "text/plain": [
              "<IPython.core.display.Javascript object>"
            ],
            "application/javascript": [
              "\n",
              "    async function download(id, filename, size) {\n",
              "      if (!google.colab.kernel.accessAllowed) {\n",
              "        return;\n",
              "      }\n",
              "      const div = document.createElement('div');\n",
              "      const label = document.createElement('label');\n",
              "      label.textContent = `Downloading \"${filename}\": `;\n",
              "      div.appendChild(label);\n",
              "      const progress = document.createElement('progress');\n",
              "      progress.max = size;\n",
              "      div.appendChild(progress);\n",
              "      document.body.appendChild(div);\n",
              "\n",
              "      const buffers = [];\n",
              "      let downloaded = 0;\n",
              "\n",
              "      const channel = await google.colab.kernel.comms.open(id);\n",
              "      // Send a message to notify the kernel that we're ready.\n",
              "      channel.send({})\n",
              "\n",
              "      for await (const message of channel.messages) {\n",
              "        // Send a message to notify the kernel that we're ready.\n",
              "        channel.send({})\n",
              "        if (message.buffers) {\n",
              "          for (const buffer of message.buffers) {\n",
              "            buffers.push(buffer);\n",
              "            downloaded += buffer.byteLength;\n",
              "            progress.value = downloaded;\n",
              "          }\n",
              "        }\n",
              "      }\n",
              "      const blob = new Blob(buffers, {type: 'application/binary'});\n",
              "      const a = document.createElement('a');\n",
              "      a.href = window.URL.createObjectURL(blob);\n",
              "      a.download = filename;\n",
              "      div.appendChild(a);\n",
              "      a.click();\n",
              "      div.remove();\n",
              "    }\n",
              "  "
            ]
          },
          "metadata": {}
        },
        {
          "output_type": "display_data",
          "data": {
            "text/plain": [
              "<IPython.core.display.Javascript object>"
            ],
            "application/javascript": [
              "download(\"download_7f1b2e14-f34d-4c72-a04d-cbe79097998f\", \"reviewed_package.zip\", 186287)"
            ]
          },
          "metadata": {}
        }
      ]
    },
    {
      "cell_type": "code",
      "source": [
        "import gradio as gr\n",
        "\n",
        "def gradio_runner(files):\n",
        "    paths = [f.name for f in files]\n",
        "    report, zip_file = process_docs(paths)\n",
        "    return json.dumps(report, indent=2), zip_file\n",
        "\n",
        "ui = gr.Interface(\n",
        "    fn=gradio_runner,\n",
        "    inputs=gr.File(file_types=[\".docx\"], file_count=\"multiple\"),\n",
        "    outputs=[\"text\", gr.File()]\n",
        ")\n",
        "\n",
        "ui.launch(share=True)"
      ],
      "metadata": {
        "colab": {
          "base_uri": "https://localhost:8080/",
          "height": 611
        },
        "id": "RMitpzKNCTmE",
        "outputId": "ac288fa6-22c0-4d3c-d02c-af60c3679886"
      },
      "execution_count": 27,
      "outputs": [
        {
          "output_type": "stream",
          "name": "stdout",
          "text": [
            "Colab notebook detected. To show errors in colab notebook, set debug=True in launch()\n",
            "* Running on public URL: https://94e7e572be1c34b418.gradio.live\n",
            "\n",
            "This share link expires in 1 week. For free permanent hosting and GPU upgrades, run `gradio deploy` from the terminal in the working directory to deploy to Hugging Face Spaces (https://huggingface.co/spaces)\n"
          ]
        },
        {
          "output_type": "display_data",
          "data": {
            "text/plain": [
              "<IPython.core.display.HTML object>"
            ],
            "text/html": [
              "<div><iframe src=\"https://94e7e572be1c34b418.gradio.live\" width=\"100%\" height=\"500\" allow=\"autoplay; camera; microphone; clipboard-read; clipboard-write;\" frameborder=\"0\" allowfullscreen></iframe></div>"
            ]
          },
          "metadata": {}
        },
        {
          "output_type": "execute_result",
          "data": {
            "text/plain": []
          },
          "metadata": {},
          "execution_count": 27
        }
      ]
    }
  ]
}